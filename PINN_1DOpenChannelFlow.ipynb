{
  "nbformat": 4,
  "nbformat_minor": 0,
  "metadata": {
    "colab": {
      "provenance": [],
      "toc_visible": true,
      "gpuType": "T4",
      "authorship_tag": "ABX9TyO4Wz8h+VirJxRn3JiF1mm8",
      "include_colab_link": true
    },
    "kernelspec": {
      "name": "python3",
      "display_name": "Python 3"
    },
    "language_info": {
      "name": "python"
    },
    "accelerator": "GPU"
  },
  "cells": [
    {
      "cell_type": "markdown",
      "metadata": {
        "id": "view-in-github",
        "colab_type": "text"
      },
      "source": [
        "<a href=\"https://colab.research.google.com/github/YudaiFukushige/PINN_Hydraulics/blob/main/PINN_1DOpenChannelFlow.ipynb\" target=\"_parent\"><img src=\"https://colab.research.google.com/assets/colab-badge.svg\" alt=\"Open In Colab\"/></a>"
      ]
    },
    {
      "cell_type": "markdown",
      "source": [],
      "metadata": {
        "id": "0TiWoG6fr6ta"
      }
    },
    {
      "cell_type": "code",
      "execution_count": 1,
      "metadata": {
        "id": "SgEMBOYpr5qx"
      },
      "outputs": [],
      "source": [
        "import numpy as np\n",
        "import matplotlib.pyplot as plt\n",
        "import seaborn as sns\n",
        "\n",
        "import torch\n",
        "import torch.nn as nn\n",
        "import torch.optim as optim"
      ]
    },
    {
      "cell_type": "code",
      "source": [
        "device = \"cuda\" if torch.cuda.is_available() else \"cpu\""
      ],
      "metadata": {
        "id": "JFBuKEYLzypp"
      },
      "execution_count": 2,
      "outputs": []
    },
    {
      "cell_type": "markdown",
      "source": [
        "$h, u = f_{NN}\\left(x, t\\right)$ となる $f_{NN}$ を学習する\n",
        "\n",
        "# 問題設定\n",
        "\n",
        "- 水路の形状\n",
        "    - 勾配 : 1/1000\n",
        "    - 横断面 : 矩形\n",
        "    - 水路幅 : 1 m\n",
        "    - 粗度係数 : 0.015\n",
        "- 計算条件\n",
        "    - $x \\in [0, 200]$\n",
        "        - 上流側が，0\n",
        "    - $t \\in [0, 200]$\n",
        "    - 初期条件\n",
        "        - 等流で流れているように設定する\n",
        "        - $h(x, t = 0) = 1.0$\n",
        "        - $u(x, t = 0) = 1.014$\n",
        "    - 境界条件\n",
        "        - 上流 : 流速\n",
        "            - $u(x = 0, t) = 1.014$\n",
        "        - 下流 : 水深\n",
        "            - $h(x = 1000, t) = 1.0, t \\in [0, 5)$\n",
        "            - $h(x = 1000, t) = 0.2 \\times t, t \\in [5, 6)$\n",
        "            - $h(x = 1000, t) = 1.2, t \\in [6, 200]$"
      ],
      "metadata": {
        "id": "f9rYV_Md1TyO"
      }
    },
    {
      "cell_type": "markdown",
      "source": [
        "# Loss functions"
      ],
      "metadata": {
        "id": "ZuRkiIYjsJPa"
      }
    },
    {
      "cell_type": "code",
      "source": [
        "criteria = nn.MSELoss()"
      ],
      "metadata": {
        "id": "zqmva4TzzThq"
      },
      "execution_count": 3,
      "outputs": []
    },
    {
      "cell_type": "markdown",
      "source": [
        "## Physics informed loss"
      ],
      "metadata": {
        "id": "RywGtrbMzTSk"
      }
    },
    {
      "cell_type": "code",
      "source": [
        "def physics_informed_loss_mass(x, t, net):\n",
        "    \"\"\"\n",
        "    連続式に関するPhysics informed lossを計算する関数\n",
        "    x : 空間\n",
        "    t : 時間\n",
        "    net : (x, t)を受け取って，(h, u)を返すネットワーク\n",
        "    \"\"\"\n",
        "    # 予測値を計算\n",
        "    h = net(x, t)[:, 0]\n",
        "    u = net(x, t)[:, 1]\n",
        "    # 水深 h の x による1階偏微分\n",
        "    h_x = torch.autograd.grad(\n",
        "        h, x,\n",
        "        grad_outputs=torch.ones_like(h),\n",
        "        retain_graph=True,\n",
        "        create_graph=True,\n",
        "        allow_unused=True\n",
        "    )[0]\n",
        "    # 水深 h の t による1階偏微分\n",
        "    h_t = torch.autograd.grad(\n",
        "        h, t,\n",
        "        grad_outputs=torch.ones_like(h),\n",
        "        retain_graph=True,\n",
        "        create_graph=True,\n",
        "        allow_unused=True\n",
        "    )[0]\n",
        "    # 流速 u の x による1階偏微分\n",
        "    u_x = torch.autograd.grad(\n",
        "        u, x,\n",
        "        grad_outputs=torch.ones_like(u),\n",
        "        retain_graph=True,\n",
        "        create_graph=True,\n",
        "        allow_unused=True\n",
        "    )[0]\n",
        "    # Physics informed loss\n",
        "    pinn_loss_mass = h_t + u*h_x + h*u_x\n",
        "    zeros_t = torch.zeros(pinn_loss_mass.size()).to(device)\n",
        "    pinn_loss_mass_ = criteria(pinn_loss_mass, zeros_t)\n",
        "    return pinn_loss_mass_"
      ],
      "metadata": {
        "id": "BW_XyklQsRC8"
      },
      "execution_count": 4,
      "outputs": []
    },
    {
      "cell_type": "code",
      "source": [
        "def physics_informed_loss_momentum(x, t, net, i0, B, n):\n",
        "    \"\"\"\n",
        "    運動方程式に関するPhysics informed lossを計算する関数\n",
        "    x : 空間\n",
        "    t : 時間\n",
        "    i0 : 勾配\n",
        "    B : 水路幅\n",
        "    n : マニングの粗度係数\n",
        "    net : (x, t)を受け取って，(h, u)を返すネットワーク\n",
        "    \"\"\"\n",
        "    # 予測値を計算\n",
        "    h = net(x, t)[:, 0]\n",
        "    u = net(x, t)[:, 1]\n",
        "    # 水深 h の x による1階偏微分\n",
        "    h_x = torch.autograd.grad(\n",
        "        h, x,\n",
        "        grad_outputs=torch.ones_like(h),\n",
        "        retain_graph=True,\n",
        "        create_graph=True,\n",
        "        allow_unused=True\n",
        "    )[0]\n",
        "    # 流速 u の x による1階偏微分\n",
        "    u_x = torch.autograd.grad(\n",
        "        u, x,\n",
        "        grad_outputs=torch.ones_like(u),\n",
        "        retain_graph=True,\n",
        "        create_graph=True,\n",
        "        allow_unused=True\n",
        "    )[0]\n",
        "    # 流速 u の t による1階偏微分\n",
        "    u_t = torch.autograd.grad(\n",
        "        u, t,\n",
        "        grad_outputs=torch.ones_like(u),\n",
        "        retain_graph=True,\n",
        "        create_graph=True,\n",
        "        allow_unused=True\n",
        "    )[0]\n",
        "    # 径深\n",
        "    R = culclate_hydraulic_radius(h=h, B=B)\n",
        "    # 摩擦損失高\n",
        "    friction_term = (n**2 * u**2) / R**(4/3)\n",
        "\n",
        "    # Physics informed loss\n",
        "    pinn_loss_momentum = -i0 + h_x + (1/9.8)*u_x + friction_term + (1/9.8)*u_t\n",
        "    zeros_t = torch.zeros(pinn_loss_momentum.size()).to(device)\n",
        "    pinn_loss_momentum_ = criteria(pinn_loss_momentum, zeros_t)\n",
        "    return pinn_loss_momentum_"
      ],
      "metadata": {
        "id": "6TV72vZAxMFx"
      },
      "execution_count": 5,
      "outputs": []
    },
    {
      "cell_type": "code",
      "source": [
        "def culclate_hydraulic_radius(h, B=1.0):\n",
        "    \"\"\"\n",
        "    一様な矩形水路の径深を計算する\n",
        "    \"\"\"\n",
        "    return B + 2.0*h"
      ],
      "metadata": {
        "id": "FbgxHbY4xuQR"
      },
      "execution_count": 6,
      "outputs": []
    },
    {
      "cell_type": "markdown",
      "source": [
        "## Initial condition"
      ],
      "metadata": {
        "id": "sciGx1VmsSIa"
      }
    },
    {
      "cell_type": "code",
      "source": [
        "def initial_condition_loss(x, t, net, h_ini, u_ini):\n",
        "    # 予測値を計算\n",
        "    h = net(x, t)[:, 0]\n",
        "    u = net(x, t)[:, 1]\n",
        "    # h, u それぞれの initial condition loss を計算する\n",
        "    h_ini_condition_loss = criteria(h, h_ini)\n",
        "    u_ini_condition_loss = criteria(u, u_ini)\n",
        "    return h_ini_condition_loss + u_ini_condition_loss"
      ],
      "metadata": {
        "id": "6k_lH2_zIknE"
      },
      "execution_count": 7,
      "outputs": []
    },
    {
      "cell_type": "code",
      "source": [
        "ini_sample_size = 2000\n",
        "x_ini = np.linspace(0.0, 1000.0, ini_sample_size)\n",
        "X_ini = np.zeros([ini_sample_size, 2]) # (x, t)の順\n",
        "X_ini[:, 0] = x_ini\n",
        "hu_ini = np.ones([ini_sample_size, 2]) # (h, u)の順, ここ，h と u で分けた方がいい，かも\n",
        "hu_ini[:, 1] = 1.014\n",
        "\n",
        "X_ini_t = torch.tensor(X_ini, requires_grad=True).float().to(device)\n",
        "hu_ini_t = torch.tensor(hu_ini, requires_grad=True).float().to(device)"
      ],
      "metadata": {
        "id": "LtGzNqUHJTKj"
      },
      "execution_count": 8,
      "outputs": []
    },
    {
      "cell_type": "markdown",
      "source": [
        "## Boundary condition"
      ],
      "metadata": {
        "id": "gcuxZbBhsVli"
      }
    },
    {
      "cell_type": "code",
      "source": [
        "# 上下流で境界条件となる変数が異なるので，変数ごとに分ける（統一してもよいか？？）\n",
        "def boundary_condition_loss_h(x, t, net, h_bnd):\n",
        "    # 予測値を計算\n",
        "    h = net(x, t)[:, 0]\n",
        "    # h, u それぞれの boundary condition loss を計算する\n",
        "    h_bnd_condition_loss = criteria(h, h_bnd)\n",
        "    return h_bnd_condition_loss\n",
        "\n",
        "def boundary_condition_loss_u(x, t, net, u_bnd):\n",
        "    # 予測値を計算\n",
        "    u = net(x, t)[:, 1]\n",
        "    # h, u それぞれの boundary condition loss を計算する\n",
        "    u_bnd_condition_loss = criteria(u, u_bnd)\n",
        "    return u_bnd_condition_loss"
      ],
      "metadata": {
        "id": "23c4hvDVsVME"
      },
      "execution_count": 9,
      "outputs": []
    },
    {
      "cell_type": "code",
      "source": [
        "bnd_sample_size = 200\n",
        "t_bnd = np.linspace(0.0, 200.0, bnd_sample_size)\n",
        "\n",
        "#\n",
        "# x = 0.0 (上流側)\n",
        "#\n",
        "X_bnd1 = np.zeros([bnd_sample_size, 2]) # (x, t)の順\n",
        "X_bnd1[:, 1] = t_bnd\n",
        "# 上流側は，流量条件\n",
        "u_bnd = np.ones([bnd_sample_size]) * 1.014\n",
        "\n",
        "#\n",
        "# x = 1000.0 (下流側)\n",
        "#\n",
        "X_bnd2 = np.zeros([bnd_sample_size, 2]) # (x, t)の順\n",
        "X_bnd2[:, 0] = 1000.0\n",
        "X_bnd2[:, 1] = t_bnd\n",
        "# 下流側は，水深条件\n",
        "h_bnd = np.zeros([bnd_sample_size])\n",
        "h_bnd[t_bnd<5.0] = 1.0\n",
        "h_bnd[(t_bnd>=5.0) & (t_bnd<6.0)] = 0.2*t_bnd[(t_bnd>=5.0) & (t_bnd<6.0)]\n",
        "h_bnd[t_bnd>=6.0] = 1.2\n",
        "\n",
        "# tensor化\n",
        "X_bnd1_t = torch.tensor(X_bnd1, requires_grad=True).float().to(device)\n",
        "u_bnd_t = torch.tensor(u_bnd, requires_grad=True).float().to(device).unsqueeze(dim=1)\n",
        "X_bnd2_t = torch.tensor(X_bnd2, requires_grad=True).float().to(device)\n",
        "h_bnd_t = torch.tensor(h_bnd, requires_grad=True).float().to(device).unsqueeze(dim=1)"
      ],
      "metadata": {
        "id": "5onK4RrKKS_L"
      },
      "execution_count": 10,
      "outputs": []
    },
    {
      "cell_type": "markdown",
      "source": [
        "## 時空間のランダムサンプリング\n",
        "\n",
        "Udemy講座のほぼコピペ"
      ],
      "metadata": {
        "id": "yxMgnUlnYhUd"
      }
    },
    {
      "cell_type": "code",
      "source": [
        "# サンプリングポイント\n",
        "x_ = np.linspace(0.0, 1000.0, 100)\n",
        "t_ = np.linspace(0.0, 20.0, 100)\n",
        "X, T = np.meshgrid(x_, t_, indexing=\"ij\") # 1次元 => 2次元\n",
        "x_flat = X.flatten()\n",
        "t_flat = T.flatten()\n",
        "\n",
        "# サンプルサイズ\n",
        "sampling_size = 5000\n",
        "random_idx = np.random.choice(np.arange(x_flat.shape[0]), size=sampling_size, replace=False) # indexのランダムサンプリング, 0〜len(x_flat)のサイコロを5000回振る\n",
        "\n",
        "# サンプリングの実行\n",
        "x_sampled = x_flat[random_idx]\n",
        "t_sampled = t_flat[random_idx]\n",
        "# サンプリングした(x, t)座標の格納\n",
        "X_sampled = np.zeros([sampling_size, 2])\n",
        "X_sampled[:, 0] = x_sampled\n",
        "X_sampled[:, 1] = t_sampled\n",
        "X_sample_t = torch.tensor(X_sampled, requires_grad=True).float().to(device)"
      ],
      "metadata": {
        "id": "t2jPqCQMYrXK"
      },
      "execution_count": 11,
      "outputs": []
    },
    {
      "cell_type": "markdown",
      "source": [
        "# MLPモデルの設計"
      ],
      "metadata": {
        "id": "wzNQtfb4ZGl0"
      }
    },
    {
      "cell_type": "code",
      "source": [
        "class PINN(torch.nn.Module):\n",
        "    def __init__(self, activation=\"relu\"): # 活性化関数を設定できるようにしておく\n",
        "        super().__init__()\n",
        "        self.regressor = nn.Linear(5, 2) # 出力層．出力はuだけなので，1\n",
        "        self.activation = activation\n",
        "        self.linear1 = self.linear(2, 5, activation=self.activation) # x, tを入力するので，入力次元は２．初期化の中で，下で定義したメソッドを参照できるんだ\n",
        "        self.linear2 = self.linear(5, 20, activation=self.activation)\n",
        "        self.linear3 = self.linear(20, 40, activation=self.activation)\n",
        "        self.linear4 = self.linear(40, 40, activation=self.activation)\n",
        "        self.linear5 = self.linear(40, 40, activation=self.activation)\n",
        "        self.linear6 = self.linear(40, 20, activation=self.activation)\n",
        "        self.linear7 = self.linear(20, 10, activation=self.activation)\n",
        "        self.linear8 = self.linear(10, 5, activation=self.activation)\n",
        "\n",
        "    def linear(self, in_features, out_features, activation=\"relu\"):\n",
        "        layers = [nn.Linear(in_features, out_features)]\n",
        "        # 活性化関数による分岐\n",
        "        if activation==\"relu\":\n",
        "            layers.append(nn.Relu(inplace=True))\n",
        "        elif activation==\"tanh\":\n",
        "            layers.append(nn.Tanh())\n",
        "        else:\n",
        "            layers.append(nn.Sigmoid())\n",
        "        net = nn.Sequential(*layers) # listを展開して，全結合層と活性化関数を一列に繋げたプロセスの作成\n",
        "        return net\n",
        "\n",
        "    def forward(self, x, t):\n",
        "        inputs = torch.cat([x, t], axis=1) # x, tを1つのtensorにまとめる\n",
        "        out = self.linear1(inputs)\n",
        "        out = self.linear2(out)\n",
        "        out = self.linear3(out)\n",
        "        out = self.linear4(out)\n",
        "        out = self.linear5(out)\n",
        "        out = self.linear6(out)\n",
        "        out = self.linear7(out)\n",
        "        out = self.linear8(out)\n",
        "        out = self.regressor(out)\n",
        "        return out"
      ],
      "metadata": {
        "id": "__5ojaz9Y_Q4"
      },
      "execution_count": 12,
      "outputs": []
    },
    {
      "cell_type": "markdown",
      "source": [
        "# 学習"
      ],
      "metadata": {
        "id": "0KuLpqb2Zg6c"
      }
    },
    {
      "cell_type": "code",
      "source": [
        "net = PINN(activation=\"tanh\").to(device) #　インスタンスの作成\n",
        "optimizer = optim.Adam(net.parameters(), lr=0.0005) # 最適化にはAdamを使用"
      ],
      "metadata": {
        "id": "07A64Q25ZaoX"
      },
      "execution_count": 13,
      "outputs": []
    },
    {
      "cell_type": "code",
      "source": [
        "num_epochs = 9000\n",
        "for epoch in range(num_epochs):\n",
        "    optimizer.zero_grad() # 溜まった勾配を初期化\n",
        "    #\n",
        "    # PINN Loss\n",
        "    #\n",
        "    x_sampled = X_sample_t[:, 0].unsqueeze(dim=-1).to(device)\n",
        "    t_sampled = X_sample_t[:, 1].unsqueeze(dim=-1).to(device)\n",
        "    pinn_loss_mass = physics_informed_loss_mass(x_sampled, t_sampled, net)\n",
        "    pinn_loss_momentum = physics_informed_loss_momentum(x_sampled, t_sampled, net, i0=1/1000, B=1.0, n=0.015)\n",
        "    #\n",
        "    # Initial Loss\n",
        "    #\n",
        "    x_ini = X_ini_t[:, 0].unsqueeze(dim=-1).to(device)\n",
        "    t_ini = X_ini_t[:, 1].unsqueeze(dim=-1).to(device)\n",
        "    ini_loss = initial_condition_loss(x_ini, t_ini, net, hu_ini_t[:, 0], hu_ini_t[:, 1])\n",
        "    #\n",
        "    # Boundary loss\n",
        "    #\n",
        "    # 上流\n",
        "    x_bnd1 = X_bnd1_t[:, 0].unsqueeze(dim=-1).to(device)\n",
        "    t_bnd1 = X_bnd1_t[:, 1].unsqueeze(dim=-1).to(device)\n",
        "    bnd_loss1 = boundary_condition_loss_u(x_bnd1, t_bnd1, net, u_bnd_t)\n",
        "    # 下流\n",
        "    x_bnd2 = X_bnd2_t[:, 0].unsqueeze(dim=-1).to(device)\n",
        "    t_bnd2 = X_bnd2_t[:, 1].unsqueeze(dim=-1).to(device)\n",
        "    bnd_loss2 = boundary_condition_loss_h(x_bnd1, t_bnd1, net, h_bnd_t)\n",
        "\n",
        "    loss = pinn_loss_mass + pinn_loss_momentum + ini_loss + bnd_loss1 + bnd_loss2\n",
        "    loss.backward() # 誤差逆伝播\n",
        "    optimizer.step() # パラメーター更新\n",
        "    if epoch%500==0:\n",
        "        loss_ = loss.item()\n",
        "        pinn_loss_mass_ = pinn_loss_mass.item()\n",
        "        pinn_loss_momentum_ = pinn_loss_momentum.item()\n",
        "        ini_loss_ = ini_loss.item()\n",
        "        bnd_loss1_ = bnd_loss1.item()\n",
        "        bnd_loss2_ = bnd_loss2.item()\n",
        "        print(f\"epoch : {epoch:.3e}, loss : {loss_:.2e}, pinn_mass : {pinn_loss_mass_:.2e}, pinn_momentum : {pinn_loss_momentum_:.2e} ini : {ini_loss_:.2e}, bnd1 : {bnd_loss1_:.2e}, bnd2 : {bnd_loss2_:.2e}\")"
      ],
      "metadata": {
        "colab": {
          "base_uri": "https://localhost:8080/"
        },
        "id": "6DbotPVnZjEc",
        "outputId": "d24a6538-39e0-4282-9ac0-df71178ed8de"
      },
      "execution_count": null,
      "outputs": [
        {
          "output_type": "stream",
          "name": "stderr",
          "text": [
            "/usr/local/lib/python3.10/dist-packages/torch/nn/modules/loss.py:535: UserWarning: Using a target size (torch.Size([200, 1])) that is different to the input size (torch.Size([200])). This will likely lead to incorrect results due to broadcasting. Please ensure they have the same size.\n",
            "  return F.mse_loss(input, target, reduction=self.reduction)\n"
          ]
        },
        {
          "output_type": "stream",
          "name": "stdout",
          "text": [
            "epoch : 0.000e+00, loss : 4.85e+00, pinn_mass : 8.95e-10, pinn_momentum : 9.93e-07 ini : 2.21e+00, bnd1 : 1.27e+00, bnd2 : 1.36e+00\n",
            "epoch : 5.000e+02, loss : 2.96e-02, pinn_mass : 1.13e-09, pinn_momentum : 8.97e-07 ini : 7.65e-04, bnd1 : 4.97e-06, bnd2 : 2.89e-02\n",
            "epoch : 1.000e+03, loss : 2.00e-02, pinn_mass : 7.28e-10, pinn_momentum : 9.04e-07 ini : 9.36e-03, bnd1 : 9.57e-09, bnd2 : 1.06e-02\n",
            "epoch : 1.500e+03, loss : 2.00e-02, pinn_mass : 3.82e-10, pinn_momentum : 9.04e-07 ini : 9.40e-03, bnd1 : 1.18e-08, bnd2 : 1.06e-02\n",
            "epoch : 2.000e+03, loss : 1.99e-02, pinn_mass : 8.57e-11, pinn_momentum : 9.04e-07 ini : 9.39e-03, bnd1 : 5.90e-08, bnd2 : 1.05e-02\n",
            "epoch : 2.500e+03, loss : 4.73e-03, pinn_mass : 8.29e-07, pinn_momentum : 3.66e-06 ini : 1.72e-03, bnd1 : 1.02e-03, bnd2 : 1.98e-03\n",
            "epoch : 3.000e+03, loss : 1.24e-03, pinn_mass : 3.55e-07, pinn_momentum : 4.29e-06 ini : 6.07e-05, bnd1 : 1.70e-05, bnd2 : 1.16e-03\n",
            "epoch : 3.500e+03, loss : 1.18e-03, pinn_mass : 2.31e-07, pinn_momentum : 4.48e-06 ini : 1.85e-05, bnd1 : 2.63e-07, bnd2 : 1.16e-03\n",
            "epoch : 4.000e+03, loss : 1.18e-03, pinn_mass : 1.95e-07, pinn_momentum : 4.16e-06 ini : 1.81e-05, bnd1 : 2.32e-07, bnd2 : 1.16e-03\n",
            "epoch : 4.500e+03, loss : 1.18e-03, pinn_mass : 1.57e-07, pinn_momentum : 3.60e-06 ini : 1.78e-05, bnd1 : 1.89e-07, bnd2 : 1.16e-03\n"
          ]
        }
      ]
    },
    {
      "cell_type": "code",
      "source": [
        "X_test = np.zeros([x_flat.shape[0], 2])\n",
        "X_test[:, 0] = x_flat\n",
        "X_test[:, 1] = t_flat\n",
        "\n",
        "X_test_t = torch.tensor(X_test).float().to(device)\n",
        "x_test = X_test_t[:, 0].unsqueeze(dim=-1)\n",
        "t_test = X_test_t[:, 1].unsqueeze(dim=-1)\n",
        "h_pred = net(x_test, t_test)[:, 0]\n",
        "\n",
        "h_pred_arr = h_pred.detach().cpu().numpy().reshape(100, 100)"
      ],
      "metadata": {
        "id": "rcrYZ-9gkYi8"
      },
      "execution_count": 65,
      "outputs": []
    },
    {
      "cell_type": "code",
      "source": [
        "plt.figure(figsize=(12, 5))\n",
        "plt.subplot(1, 1, 1)\n",
        "plt.title('PINN')\n",
        "sns.heatmap(h_pred_arr, cmap='rainbow', vmin=1.0, vmax=1.3)"
      ],
      "metadata": {
        "colab": {
          "base_uri": "https://localhost:8080/",
          "height": 498
        },
        "id": "kg3W7b97krLG",
        "outputId": "f26b7967-8abf-44c9-b5e2-34235b8f86df"
      },
      "execution_count": 75,
      "outputs": [
        {
          "output_type": "execute_result",
          "data": {
            "text/plain": [
              "<Axes: title={'center': 'PINN'}>"
            ]
          },
          "metadata": {},
          "execution_count": 75
        },
        {
          "output_type": "display_data",
          "data": {
            "text/plain": [
              "<Figure size 1200x500 with 2 Axes>"
            ],
            "image/png": "[encoded data removed]"
          },
          "metadata": {}
        }
      ]
    },
    {
      "cell_type": "code",
      "source": [],
      "metadata": {
        "id": "vv47YHARlroF"
      },
      "execution_count": null,
      "outputs": []
    }
  ]
}