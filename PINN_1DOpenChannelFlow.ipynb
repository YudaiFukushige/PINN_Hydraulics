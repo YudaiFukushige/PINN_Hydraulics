{
  "nbformat": 4,
  "nbformat_minor": 0,
  "metadata": {
    "colab": {
      "provenance": [],
      "gpuType": "T4",
      "authorship_tag": "ABX9TyNxiLBs4QnDrnmVqoljxQho",
      "include_colab_link": true
    },
    "kernelspec": {
      "name": "python3",
      "display_name": "Python 3"
    },
    "language_info": {
      "name": "python"
    },
    "accelerator": "GPU"
  },
  "cells": [
    {
      "cell_type": "markdown",
      "metadata": {
        "id": "view-in-github",
        "colab_type": "text"
      },
      "source": [
        "<a href=\"https://colab.research.google.com/github/YudaiFukushige/PINN_Hydraulics/blob/main/PINN_1DOpenChannelFlow.ipynb\" target=\"_parent\"><img src=\"https://colab.research.google.com/assets/colab-badge.svg\" alt=\"Open In Colab\"/></a>"
      ]
    },
    {
      "cell_type": "markdown",
      "source": [],
      "metadata": {
        "id": "0TiWoG6fr6ta"
      }
    },
    {
      "cell_type": "code",
      "execution_count": 2,
      "metadata": {
        "id": "SgEMBOYpr5qx"
      },
      "outputs": [],
      "source": [
        "import numpy as np\n",
        "import matplotlib.pyplot as plt\n",
        "\n",
        "import torch\n",
        "import torch.nn as nn\n",
        "import torch.optim as optim"
      ]
    },
    {
      "cell_type": "code",
      "source": [
        "device = \"cuda\" if torch.cuda.is_available() else \"cpu\""
      ],
      "metadata": {
        "id": "JFBuKEYLzypp"
      },
      "execution_count": 3,
      "outputs": []
    },
    {
      "cell_type": "markdown",
      "source": [
        "# 問題設定\n",
        "\n",
        "- 水路の形状\n",
        "    - 勾配 : 1/1000\n",
        "    - 横断面 : 矩形\n",
        "    - 水路幅 : 1 m\n",
        "    - 粗度係数 : 0.015\n",
        "- 計算条件\n",
        "    - $x \\in [0, 1000]$\n",
        "        - 上流側が，0\n",
        "    - $t \\in [0, 20]$\n",
        "    - 初期条件\n",
        "        - 等流で流れているように設定する\n",
        "        - $h(x, t = 0) = 1.0$\n",
        "        - $u(x, t = 0) = 1.014$\n",
        "    - 境界条件\n",
        "        - 上流 : 流速\n",
        "            - $u(x = 0, t) = 1.014$\n",
        "        - 下流 : 水深\n",
        "            - $h(x = 1000, t) = 1.0, t \\in [0, 5)$\n",
        "            - $h(x = 1000, t) = 0.2 \\times t, t \\in [5, 6)$\n",
        "            - $h(x = 1000, t) = 1.2, t \\in [6, 20]$"
      ],
      "metadata": {
        "id": "f9rYV_Md1TyO"
      }
    },
    {
      "cell_type": "markdown",
      "source": [
        "# Loss functions"
      ],
      "metadata": {
        "id": "ZuRkiIYjsJPa"
      }
    },
    {
      "cell_type": "code",
      "source": [
        "criteria = nn.MSELoss()"
      ],
      "metadata": {
        "id": "zqmva4TzzThq"
      },
      "execution_count": 11,
      "outputs": []
    },
    {
      "cell_type": "markdown",
      "source": [
        "## Physics informed loss"
      ],
      "metadata": {
        "id": "RywGtrbMzTSk"
      }
    },
    {
      "cell_type": "code",
      "source": [
        "def physics_informed_loss_mass(x, t, net):\n",
        "    \"\"\"\n",
        "    連続式に関するPhysics informed lossを計算する関数\n",
        "    x : 空間\n",
        "    t : 時間\n",
        "    net : (x, t)を受け取って，(h, u)を返すネットワーク\n",
        "    \"\"\"\n",
        "    # 予測値を計算\n",
        "    h = net(x, t)[:, 0]\n",
        "    u = net(x, t)[:, 1]\n",
        "    # 水深 h の x による1階偏微分\n",
        "    h_x = torch.autograd.grad(\n",
        "        h, x,\n",
        "        grad_outputs=torch.ones_like(h),\n",
        "        retain_graph=True,\n",
        "        create_graph=True,\n",
        "        allow_unused=True\n",
        "    )[0]\n",
        "    # 水深 h の t による1階偏微分\n",
        "    h_t = torch.autograd.grad(\n",
        "        h, t,\n",
        "        grad_outputs=torch.ones_like(h),\n",
        "        retain_graph=True,\n",
        "        create_graph=True,\n",
        "        allow_unused=True\n",
        "    )[0]\n",
        "    # 流速 u の x による1階偏微分\n",
        "    u_x = torch.autograd.grad(\n",
        "        u, x,\n",
        "        grad_outputs=torch.ones_like(u),\n",
        "        retain_graph=True,\n",
        "        create_graph=True,\n",
        "        allow_unused=True\n",
        "    )[0]\n",
        "    # Physics informed loss\n",
        "    pinn_loss_mass = h_t + u*h_x + h*u_x\n",
        "    zeros_t = torch.zeros(pinn_loss_mass.size()).to(device)\n",
        "    pinn_loss_mass_ = criteria(pinn_loss_mass, zeros_t)\n",
        "    return pinn_loss_mass_"
      ],
      "metadata": {
        "id": "BW_XyklQsRC8"
      },
      "execution_count": 14,
      "outputs": []
    },
    {
      "cell_type": "code",
      "source": [
        "def physics_informed_loss_momentum(x, t, i0, B, n, net):\n",
        "    \"\"\"\n",
        "    運動方程式に関するPhysics informed lossを計算する関数\n",
        "    x : 空間\n",
        "    t : 時間\n",
        "    i0 : 勾配\n",
        "    B : 水路幅\n",
        "    n : マニングの粗度係数\n",
        "    net : (x, t)を受け取って，(h, u)を返すネットワーク\n",
        "    \"\"\"\n",
        "    # 予測値を計算\n",
        "    h = net(x, t)[:, 0]\n",
        "    u = net(x, t)[:, 1]\n",
        "    # 水深 h の x による1階偏微分\n",
        "    h_x = torch.autograd.grad(\n",
        "        h, x,\n",
        "        grad_outputs=torch.ones_like(h),\n",
        "        retain_graph=True,\n",
        "        create_graph=True,\n",
        "        allow_unused=True\n",
        "    )[0]\n",
        "    # 流速 u の x による1階偏微分\n",
        "    u_x = torch.autograd.grad(\n",
        "        u, x,\n",
        "        grad_outputs=torch.ones_like(u),\n",
        "        retain_graph=True,\n",
        "        create_graph=True,\n",
        "        allow_unused=True\n",
        "    )[0]\n",
        "    # 流速 u の t による1階偏微分\n",
        "    u_t = torch.autograd.grad(\n",
        "        u, t,\n",
        "        grad_outputs=torch.ones_like(u),\n",
        "        retain_graph=True,\n",
        "        create_graph=True,\n",
        "        allow_unused=True\n",
        "    )[0]\n",
        "    # 径深\n",
        "    R = culclate_hydraulic_radius(h=h, B=B)\n",
        "    # 摩擦損失高\n",
        "    friction_term = (n**2 * u**2) / R**(4/3)\n",
        "\n",
        "    # Physics informed loss\n",
        "    pinn_loss_momentum = -i0 + h_x + (1/9.8)*u_x + friction_term + (1/9.8)*u_t\n",
        "    zeros_t = torch.zeros(pinn_loss_momentum.size()).to(device)\n",
        "    pinn_loss_momentum_ = criteria(pinn_loss_momentum, zeros_t)\n",
        "    return pinn_loss_momentum_"
      ],
      "metadata": {
        "id": "6TV72vZAxMFx"
      },
      "execution_count": 1,
      "outputs": []
    },
    {
      "cell_type": "code",
      "source": [
        "def culclate_hydraulic_radius(h, B=1.0):\n",
        "    \"\"\"\n",
        "    一様な矩形水路の径深を計算する\n",
        "    \"\"\"\n",
        "    return B + 2.0*h"
      ],
      "metadata": {
        "id": "FbgxHbY4xuQR"
      },
      "execution_count": 9,
      "outputs": []
    },
    {
      "cell_type": "markdown",
      "source": [
        "## Initial condition"
      ],
      "metadata": {
        "id": "sciGx1VmsSIa"
      }
    },
    {
      "cell_type": "code",
      "source": [
        "def initial_condition_loss(x, t, net, h_ini, u_ini):\n",
        "    # 予測値を計算\n",
        "    h = net(x, t)[:, 0]\n",
        "    u = net(x, t)[:, 1]\n",
        "    # h, u それぞれの initial condition loss を計算する\n",
        "    h_ini_condition_loss = criteria(h, h_ini)\n",
        "    u_ini_condition_loss = criteria(u, u_ini)\n",
        "    return h_ini_condition_loss + u_ini_condition_loss"
      ],
      "metadata": {
        "id": "6k_lH2_zIknE"
      },
      "execution_count": null,
      "outputs": []
    },
    {
      "cell_type": "code",
      "source": [],
      "metadata": {
        "id": "LtGzNqUHJTKj"
      },
      "execution_count": null,
      "outputs": []
    },
    {
      "cell_type": "markdown",
      "source": [
        "## Boundary condition"
      ],
      "metadata": {
        "id": "gcuxZbBhsVli"
      }
    },
    {
      "cell_type": "code",
      "source": [
        "# 上下流で境界条件となる変数が異なるので，変数ごとに分ける（統一してもよいか？？）\n",
        "def boundary_condition_loss_h(x, t, net, h_bnd):\n",
        "    # 予測値を計算\n",
        "    h = net(x, t)[:, 0]\n",
        "    # h, u それぞれの boundary condition loss を計算する\n",
        "    h_bnd_condition_loss = criteria(h, h_bnd)\n",
        "    return h_bnd_condition_loss\n",
        "\n",
        "def boundary_condition_loss_u(x, t, net, u_bnd):\n",
        "    # 予測値を計算\n",
        "    u = net(x, t)[:, 1]\n",
        "    # h, u それぞれの boundary condition loss を計算する\n",
        "    u_bnd_condition_loss = criteria(u, u_bnd)\n",
        "    return u_bnd_condition_loss"
      ],
      "metadata": {
        "id": "23c4hvDVsVME"
      },
      "execution_count": null,
      "outputs": []
    },
    {
      "cell_type": "code",
      "source": [],
      "metadata": {
        "id": "5onK4RrKKS_L"
      },
      "execution_count": null,
      "outputs": []
    }
  ]
}